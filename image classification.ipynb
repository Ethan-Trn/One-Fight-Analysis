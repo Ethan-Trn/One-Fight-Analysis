{
 "cells": [
  {
   "cell_type": "code",
   "execution_count": null,
   "id": "f6be8573",
   "metadata": {},
   "outputs": [],
   "source": [
    "#data frame\n",
    "import pandas as pd\n",
    "import numpy as np\n",
    "#machine training \n",
    "import seaborn as sns\n",
    "import os\n",
    "from PIL import Image, ImageOps\n",
    "from sklearn.model_selection import train_test_split\n",
    "#model classification\n",
    "# pyright: reportMissingImports=false\n",
    "import tensorflow as tf\n",
    "from tensorflow.keras.models      import Sequential\n",
    "from tensorflow.keras.layers      import Conv2D, MaxPooling2D, Activation, Dropout, Flatten, Dense\n",
    "from tensorflow.keras.preprocessing.image import ImageDataGenerator\n",
    "\n",
    "#loading data\n",
    "images = []\n",
    "gender = []\n"
   ]
  }
 ],
 "metadata": {
  "language_info": {
   "name": "python"
  }
 },
 "nbformat": 4,
 "nbformat_minor": 5
}
